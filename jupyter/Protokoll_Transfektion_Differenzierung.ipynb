{
 "cells": [
  {
   "cell_type": "markdown",
   "id": "0eeffbff-f6d9-498d-864c-07aa95e28ed3",
   "metadata": {},
   "source": [
    "# Protokoll Transfektion und Differenzierung"
   ]
  },
  {
   "cell_type": "markdown",
   "id": "7d6dfa1a-b35f-4717-8999-4a17930ab787",
   "metadata": {},
   "source": [
    "Zelllinie: HN10e\n",
    "\n",
    "Inkubation:\\\n",
    "Temp. = 37°C\\\n",
    "CO2 = 5%"
   ]
  },
  {
   "cell_type": "markdown",
   "id": "1b1c2b1d-e361-44c4-8552-bab08c0af676",
   "metadata": {},
   "source": [
    "**Tag 1** (Dienstag)"
   ]
  },
  {
   "cell_type": "markdown",
   "id": "7d8da423-e7ad-4673-9513-8897a235c7e5",
   "metadata": {},
   "source": [
    "## Lösen der Zellen\n",
    "\n",
    "- absaugen, des Wachstumsmediums\n",
    "- kurz 5 ml PBS EDTA darauf geben (nach wenigen Sekunden wieder absaugen)\n",
    "- 1 ml Trypsin (zum Lösen d. Zellen)\n",
    "- 1 ml Trypsin (inkl. gelöste Zellen) + 3 ml Wachstumsmedium zentrifugieren (5 min, 300 rpm)\n",
    "- Ueberstand absaugen\n",
    "- 1 ml EMFI"
   ]
  },
  {
   "cell_type": "markdown",
   "id": "d077a758-7dda-429f-aedd-d85468dcb9ba",
   "metadata": {},
   "source": [
    "## Resuspendierung\n",
    "Medium: EMFI (10% Serum, 1% Penic.+Strept.)\n",
    "\n",
    "Zählen d. Zellen: (12 µL auf Zählgläschen)\n",
    "- $ n / ml$\n",
    "\n",
    "Ansetzen von 3cm Schale (n Zellen) in 2 ml EMFI"
   ]
  },
  {
   "cell_type": "markdown",
   "id": "a4d22ad5-fde6-4ed5-bbce-fb6951278092",
   "metadata": {},
   "source": [
    "## Transfektion mit MACsfectin\n",
    "Plasmid: \\\n",
    "Verduennungen in: DMEM-026\n",
    "\n",
    "nach Protokoll für MACsfectin für eine 3 cm Schale\\\n",
    "Menge DNA: 3 µg\\\n",
    "Volumen DNA verduennt in DMEM: 100µL\\\n",
    "Menge MACSfectin: 6µL\\\n",
    "Volumen MACSfectin verduennt in DMEM: 100µL\\\n",
    "Volumen Zellschale: 2mL (EMFI)"
   ]
  },
  {
   "cell_type": "markdown",
   "id": "83098db6-3884-42ba-aa71-4bb66788c16d",
   "metadata": {},
   "source": [
    "## Inkubieren"
   ]
  },
  {
   "cell_type": "markdown",
   "id": "d6bd5d65-101f-413b-8ae1-f7140fed4ec5",
   "metadata": {},
   "source": [
    "**Tag 2** (Mittwoch)"
   ]
  },
  {
   "cell_type": "markdown",
   "id": "8d67103c-6811-413b-95c6-5196526cd047",
   "metadata": {},
   "source": [
    "## Passagieren\n",
    "Medium: EMFI (DMEM + 10% Serum + 1% Penicillin, Streptomycin\n",
    "\n",
    "- absaugen, des Wachstumsmediums\n",
    "- kurz 2 ml PBS EDTA darauf geben (nach wenigen Sekunden wieder absaugen)\n",
    "- 0,5 ml Trypsin (zum Lösen d. Zellen)\n",
    "- 0,5 ml Trypsin (inkl. gelöste Zellen) + 2,5 ml Wachstumsmedium zentrifugieren (5 min, 300 rpm)\n",
    "- Ueberstand absaugen\n",
    "- 1 ml EMFI\n",
    "\n",
    "pro CS 100µL mit 10.000 Zellen"
   ]
  },
  {
   "cell_type": "markdown",
   "id": "06600128-2894-46e7-8b92-de0d2677b0f3",
   "metadata": {},
   "source": [
    "**Tag 3** (Donnerstag)"
   ]
  },
  {
   "cell_type": "markdown",
   "id": "24d9412b-07f6-4b38-bc0f-4fa8f58ea290",
   "metadata": {},
   "source": [
    "## 1. Schritt d. Differenzierung\n",
    "Mediumwechsel:\n",
    "\n",
    "-> Differenzierungsmedium (DMEM + 0,5% Serum + 1% Penicillin, Streptomycin)"
   ]
  },
  {
   "cell_type": "markdown",
   "id": "732469dc-999f-4c8e-947b-9be54f6ba0bd",
   "metadata": {},
   "source": [
    "**Tag 4** (Freitag)"
   ]
  },
  {
   "cell_type": "markdown",
   "id": "8f387f09-45d7-4eee-853f-13c6776620d0",
   "metadata": {},
   "source": [
    "## 2. Schritt d. Differenzierung\n",
    "Mediumwechsel:\n",
    "\n",
    "-> Differenzierungsmedium inkl. 1µM RA"
   ]
  }
 ],
 "metadata": {
  "kernelspec": {
   "display_name": "Python 3 (ipykernel)",
   "language": "python",
   "name": "python3"
  },
  "language_info": {
   "codemirror_mode": {
    "name": "ipython",
    "version": 3
   },
   "file_extension": ".py",
   "mimetype": "text/x-python",
   "name": "python",
   "nbconvert_exporter": "python",
   "pygments_lexer": "ipython3",
   "version": "3.11.4"
  }
 },
 "nbformat": 4,
 "nbformat_minor": 5
}
