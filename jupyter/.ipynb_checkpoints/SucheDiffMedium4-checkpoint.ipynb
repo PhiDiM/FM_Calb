{
 "cells": [
  {
   "cell_type": "code",
   "execution_count": 2,
   "id": "6e1f7e0c-7d09-4e11-9416-6f8916b986f9",
   "metadata": {},
   "outputs": [
    {
     "data": {
      "text/html": [
       "<style>\n",
       "  table {margin-left: 0 !important;}\n",
       "</style>\n"
      ],
      "text/plain": [
       "<IPython.core.display.HTML object>"
      ]
     },
     "metadata": {},
     "output_type": "display_data"
    }
   ],
   "source": [
    "%%html\n",
    "<style>\n",
    "  table {margin-left: 0 !important;}\n",
    "</style>"
   ]
  },
  {
   "cell_type": "markdown",
   "id": "0eeffbff-f6d9-498d-864c-07aa95e28ed3",
   "metadata": {},
   "source": [
    "# 1.4 Suche Differenzierungsmedium"
   ]
  },
  {
   "cell_type": "markdown",
   "id": "7d6dfa1a-b35f-4717-8999-4a17930ab787",
   "metadata": {},
   "source": [
    "Zelllinie: HN10e\n",
    "\n",
    "Inkubation:\\\n",
    "Temp. = 37°C\\\n",
    "CO2 = 5%"
   ]
  },
  {
   "cell_type": "markdown",
   "id": "1b1c2b1d-e361-44c4-8552-bab08c0af676",
   "metadata": {},
   "source": [
    "**09.04.24** Kontrolle: Zellen haben schon mehr Fortsätze als sonst, sehen aber gut aus"
   ]
  },
  {
   "cell_type": "markdown",
   "id": "7d8da423-e7ad-4673-9513-8897a235c7e5",
   "metadata": {},
   "source": [
    "## Lösen der Zellen\n",
    "\n",
    "- absaugen, des Wachstumsmediums\n",
    "- kurz 5 ml PBS EDTA darauf geben (nach wenigen Sekunden wieder absaugen)\n",
    "- 1 ml Trypsin (zum Lösen d. Zellen)\n",
    "- 1 ml Trypsin (inkl. gelöste Zellen) + 3 ml Wachstumsmedium zentrifugieren (5 min, 300 rpm)\n",
    "- Ueberstand absaugen\n",
    "- 1 ml EMFI"
   ]
  },
  {
   "cell_type": "markdown",
   "id": "d077a758-7dda-429f-aedd-d85468dcb9ba",
   "metadata": {},
   "source": [
    "## Resuspendierung\n",
    "Medium: EMFI (10% Serum, 1% Penic.+Strept.)\n",
    "\n",
    "Zählen d. Zellen: (12 µL auf Zählgläschen)\n",
    "- $ 2,92*10^6 / ml$\n",
    "\n",
    "Ansetzen von 2x 3cm Schale (450.000 Zellen) in 2 ml EMFI"
   ]
  },
  {
   "cell_type": "markdown",
   "id": "a4d22ad5-fde6-4ed5-bbce-fb6951278092",
   "metadata": {},
   "source": [
    "## Transfektion mit MACsfectin\n",
    "2 Transfektionen, Plasmide: TH3.2 (Schale 1); EGFP (Schale 2)\\\n",
    "dilutions in: DMEM-026\n",
    "\n",
    "nach Protokoll für MACsfectin für eine 3 cm Schale\\\n",
    "Quantity DNA: 3 µg (3/2,92=1,027µL->1,02µL)\\\n",
    "Volume DNA diluted in DMEM: 100µL\\\n",
    "Quantity MACSfectin: 6µL\\\n",
    "Volume MACSfectin diluted in DMEM: 100µL\\\n",
    "Volume cell culture: 2mL (EMFI)\n",
    "\n",
    "abweichend von Protokoll, 100µL DMEM insgesamt bei den beiden Verdünnungen, anstelle von (100-Volume(x))µL\n",
    "\n",
    "Mediumwechsel nach 4 Stunden"
   ]
  },
  {
   "cell_type": "markdown",
   "id": "83098db6-3884-42ba-aa71-4bb66788c16d",
   "metadata": {},
   "source": [
    "## Inkubieren"
   ]
  },
  {
   "cell_type": "markdown",
   "id": "d6bd5d65-101f-413b-8ae1-f7140fed4ec5",
   "metadata": {},
   "source": [
    "**10.04.24**\n",
    "Kontrolle: Zellen sehen gut aus"
   ]
  },
  {
   "cell_type": "markdown",
   "id": "8d67103c-6811-413b-95c6-5196526cd047",
   "metadata": {},
   "source": [
    "## Passagieren\n",
    "Medium: EMFI (DMEM + 10% Serum + 1% Penicillin, Streptomycin\n",
    "\n",
    "- absaugen, des Wachstumsmediums\n",
    "- kurz 2 ml PBS EDTA darauf geben (nach wenigen Sekunden wieder absaugen)\n",
    "- 0,5 ml Trypsin (zum Lösen d. Zellen)\n",
    "- 0,5 ml Trypsin (inkl. gelöste Zellen) + 2,5 ml Wachstumsmedium zentrifugieren (5 min, 300 rpm)\n",
    "- Ueberstand absaugen\n",
    "- 1 ml EMFI\n",
    "\n",
    "fuer TH3.2:\n",
    "6x 3 cover slip (à 3x 10.000 = 30.000 Zellen)\\\n",
    "   (brauchen insg. mind. 180.000 Zellen)\n",
    "\n",
    "Zählen der Zellen - $5,48*10^5/mL$\n",
    "\n",
    "pro CS 100µL mit 10.000 Zellen -> Verdünnung ansetzen 300.000 Zellen in 3 mL\n",
    "\n",
    "fuer EGFP:\n",
    "1x 2 cover slip (à 2x 10.000 = 20.000 Zellen)\\\n",
    "   (brauchen insg. mind. 20.000 Zellen)\n",
    "\n",
    "Zählen der Zellen - $5,89*10^5/mL$\n",
    "\n",
    "pro CS 100µL mit 10.000 Zellen -> Verdünnung ansetzen 100.000 Zellen in 1 mL\n",
    "\n",
    "Verdünnung CS: µL Zellverdünnung + µL EMFI"
   ]
  },
  {
   "cell_type": "markdown",
   "id": "06600128-2894-46e7-8b92-de0d2677b0f3",
   "metadata": {},
   "source": [
    "**11.04.24**\n",
    "Kontrolle: Zellen sehen gut aus\n",
    "EGFP: leuchten noch stark"
   ]
  },
  {
   "cell_type": "markdown",
   "id": "24d9412b-07f6-4b38-bc0f-4fa8f58ea290",
   "metadata": {},
   "source": [
    "## 1. Schritt d. Differenzierung\n",
    "Mediumwechsel:\n",
    "\n",
    "-> Differenzierungsmedium (DMEM + 0,5% Serum + 1% Penicillin, Streptomycin)"
   ]
  },
  {
   "cell_type": "markdown",
   "id": "c547b41f-95ba-4dbc-be80-5423da325332",
   "metadata": {},
   "source": [
    "Fixierung von 3x TH3.2 CS zur Kontrolle (siehe Protokoll unten)\n",
    "\n",
    "|Ansatz|AK1.1|Verduennung AK1.1|Verduennungsloesung AKx.1|\n",
    "|---|---|---|---|\n",
    "|CS1|$\\emptyset$|0|200µL|\n",
    "|CS2|gp alpha Calb (CAB 27)[1/200]|1µL|200µL|\n",
    "|CS3|CB38 (1:10)[1/200]|1µL|200µL|"
   ]
  },
  {
   "cell_type": "markdown",
   "id": "732469dc-999f-4c8e-947b-9be54f6ba0bd",
   "metadata": {},
   "source": [
    "**12.04.24** Kontrolle: scheinbar alles gut, kleiner Fehler bei der Kontrollfaerbung, aber Calb konnte in Zellen nachgewiesen werden"
   ]
  },
  {
   "cell_type": "markdown",
   "id": "8f387f09-45d7-4eee-853f-13c6776620d0",
   "metadata": {},
   "source": [
    "## 2. Schritt d. Differenzierung\n",
    "Mediumwechsel:\n",
    "\n",
    "-> Differenzierungsmedium inkl. 1µM RA"
   ]
  },
  {
   "cell_type": "markdown",
   "id": "5a115697-752b-4e2f-9001-ffb48cd5daf6",
   "metadata": {},
   "source": [
    "**15.04.** Kontrolle:"
   ]
  },
  {
   "cell_type": "markdown",
   "id": "6428a5e9-c81f-423a-a496-381d567ab7ca",
   "metadata": {},
   "source": [
    "## Fixieren\n",
    "### PFA (4% PFA Lösung)\n",
    "- absaugen Medium\n",
    "- 1500µL auf CS-Schälchen\n",
    "- 20 Minuten stehen lassen\n",
    "### PBS\n",
    "- absaugen PFA\n",
    "- 2 ml auf alle Schälchen"
   ]
  },
  {
   "cell_type": "markdown",
   "id": "1648595d-cb29-4f55-a065-671c7470d3eb",
   "metadata": {},
   "source": [
    "## Permeabilisierung\n",
    "- 300µL Permeabilisierungslösung + 0,1% X-100 pro CS (je nach Halterung)\n",
    "- 15 min Warten\n",
    "\n",
    "## Blockpuffer\n",
    "- 300µL Blockpuffer\n",
    "- mind. 15 min warten (laenger nicht schlimm)"
   ]
  },
  {
   "cell_type": "markdown",
   "id": "155a658b-dbf5-4401-9774-14f30904c970",
   "metadata": {},
   "source": [
    "## Faerben AK 1\n",
    "\n",
    "Verduennung der beiden Antikoerper in einer Verduennungsloesung\n",
    "\n",
    "|Ansatz|AK1.1|Verduennung AK1.1|AK2.1| Verduennung AK2.1|Verduennungsloesung AKx.1|\n",
    "|---|---|---|---|---|---|\n",
    "|CS1|$\\emptyset$|0|$\\emptyset$|0|200µL|\n",
    "|CS2|$\\emptyset$|0|$\\emptyset$|0|200µL|\n",
    "|CS3|$\\emptyset$|0|$\\emptyset$|0|200µL|\n",
    "|CS4|gp alpha Calb (CAB 27)[1/200]|1µL|m beta-tubulin III (TU-20)[1/500]|0,4µL|200µL|\n",
    "|CS5|gp alpha Calb (CAB 27)[1/200]|1µL|rb MAP2 [1/200]|1µL|200µL|\n",
    "|CS6|gp alpha Calb (CAB 27)[1/200]|1µL|m Nestin [1/100]|2µL|200µL|\n",
    "|CS7|gp alpha Calb (CAB 27)[1/200]|1µL|m Synaptophysin [1/100]|2µL|200µL|\n",
    "|CS8|gp alpha Calb (CAB 27)[1/200]|1µL|m PSD95 [1/200]|1µL|200µL|\n",
    "|CS9|gp alpha Calb (CAB 27)[1/200]|1µL|rb GFAP [1/500]|0,4µL|200µL|\n",
    "|CS10|gp alpha Calb (CAB 27)[1/200]|1µL|rb GAD65/67 [1/2000]|0,1µL|200µL|\n",
    "|CS11|gp alpha Calb (CAB 27)[1/200]|1µL|rb ChAT [1/1000]|0,2µL|200µL|\n",
    "|CS12|gp alpha Calb (CAB 27)[1/200]|1µL|rb TH [1/200]|1µL|200µL|\n",
    "|CS13|gp alpha Calb (CAB 27)[1/200]|1µL|rb vGLUT [1/1000]|0,2µL|200µL|\n",
    "|CS14|gp alpha Calb (CAB 27)[1/200]|1µL|rb Bassoon [1/200]|1µL|200µL|\n",
    "|CS15|gp alpha Calb (CAB 27)[1/200]|1µL|rb EAAT1 [1/500]|0,4µL|200µL|\n",
    "\n",
    "\n",
    "\n",
    "\n",
    "TU-20\\\n",
    "MAP2\\\n",
    "Nestin\\\n",
    "Synaptophysin\\\n",
    "PSD95\\\n",
    "GFAP\\\n",
    "GAD65/67\\\n",
    "ChAT\\\n",
    "TH\\\n",
    "vGLUT: SySy 135 302\\\n",
    "Bassoon: SySy 141002\\\n",
    "EAAT: abcam ab416 (16c10)"
   ]
  },
  {
   "cell_type": "markdown",
   "id": "a1dc7896-bf78-49a1-9d5c-561eb2500bcb",
   "metadata": {},
   "source": [
    "**16.04.** Kontrolle:"
   ]
  },
  {
   "cell_type": "markdown",
   "id": "ba3f20d5-bb0f-4e23-9337-1c6155003c14",
   "metadata": {},
   "source": [
    "## Waschen\n",
    "1. 3x 10 min mit Wasser-PBS- waschen\n",
    "2. AK-Verdünnung aufbringen (AK: ) (1h warten)\n",
    "3. 3x 10 min mit Wasser-PBS- waschen"
   ]
  },
  {
   "cell_type": "markdown",
   "id": "fc4e501a-408e-47cb-bf36-b5d6c1bbedc9",
   "metadata": {},
   "source": [
    "## Faerben AK 2\n",
    "|Ansatz|AK1.2|Verduennung AK1.2|AK2.2| Verduennung AK2.2|AK3|Verduennung AK3|Verduennungsloesung AKx.1|\n",
    "|---|---|---|---|---|---|---|---|\n",
    "|CS1|goat anti-guinea pig Alexa555|0,125µL|$\\emptyset$|0|DAPI|0,05µL|250µL|\n",
    "|CS2|$\\emptyset$|0|donkey anti-rabbit Alexa488|0,125µL|DAPI|0,05µL|250µL|\n",
    "|CS3|$\\emptyset$|0|goat anti-mouse Alexa488|0,125µL|DAPI|0,05µL|250µL|\n",
    "|CS4|goat anti-guinea pig Alexa555|0,125µL|goat anti-mouse Alexa488|0,125µL|DAPI|0,05µL|250µL|\n",
    "|CS5|goat anti-guinea pig Alexa555|0,125µL|donkey anti-rabbit Alexa488|0,125µL|DAPI|0,05µL|250µL|\n",
    "|CS6|goat anti-guinea pig Alexa555|0,125µL|goat anti-mouse Alexa488|0,125µL|DAPI|0,05µL|250µL|\n",
    "|CS7|goat anti-guinea pig Alexa555|0,125µL|goat anti-mouse Alexa488|0,125µL|DAPI|0,05µL|250µL|\n",
    "|CS8|goat anti-guinea pig Alexa555|0,125µL|goat anti-mouse Alexa488|0,125µL|DAPI|0,05µL|250µL|\n",
    "|CS9|goat anti-guinea pig Alexa555|0,125µL|donkey anti-rabbit Alexa488|0,125µL|DAPI|0,05µL|250µL|\n",
    "|CS10|goat anti-guinea pig Alexa555|0,125µL|donkey anti-rabbit Alexa488|0,125µL|DAPI|0,05µL|250µL|\n",
    "|CS11|goat anti-guinea pig Alexa555|0,125µL|donkey anti-rabbit Alexa488|0,125µL|DAPI|0,05µL|250µL|\n",
    "|CS12|goat anti-guinea pig Alexa555|0,125µL|donkey anti-rabbit Alexa488|0,125µL|DAPI|0,05µL|250µL|\n",
    "|CS13|goat anti-guinea pig Alexa555|0,125µL|donkey anti-rabbit Alexa488|0,125µL|DAPI|0,05µL|250µL|\n",
    "|CS14|goat anti-guinea pig Alexa555|0,125µL|donkey anti-rabbit Alexa488|0,125µL|DAPI|0,05µL|250µL|\n",
    "|CS15|goat anti-guinea pig Alexa555|0,125µL|donkey anti-rabbit Alexa488|0,125µL|DAPI|0,05µL|250µL|\n",
    "\n",
    "Verduennungen:\n",
    "- DAPI: 1/5000\n",
    "- anti-guinea pig 1/2000\n",
    "- anti-mouse 1/2000\n",
    "- anti-rabbit 1/2000\n",
    "\n",
    "Notiz: anti-mouse mit anti-rabbit kontaminiert (rabbit direkt wieder abgesaugt und stattdessen mouse verwendet)"
   ]
  },
  {
   "cell_type": "markdown",
   "id": "a6cafd32-b7a3-4c19-b608-7ff541047374",
   "metadata": {},
   "source": [
    "## Aufbewahrung\n",
    "\n",
    "### CS\n",
    "Dauerpräparat anfertigen\n",
    "- 5 µL Moviol auf Deckglas aufbringen (ohne Luftblase!)\n",
    "- kurz in PBS eintauchen\n",
    "- CS umgedreht auflegen, dass Zellen zwischen Gläsern sind\n",
    "- ueber Nacht polymerisieren lassen"
   ]
  },
  {
   "cell_type": "markdown",
   "id": "f4b6a48b-87b8-4bb7-b25e-7d42d812b628",
   "metadata": {},
   "source": [
    "**06.05.**"
   ]
  },
  {
   "cell_type": "markdown",
   "id": "fe10fc85-2ddf-4704-9b52-8c7a4f92d040",
   "metadata": {},
   "source": [
    "neue Zellen angesetzt, heute fixieren, 36x CS (TH3.2), 9x CS (Secretagonin), 6x CS (pCMV5)\n",
    "\n",
    "## Fixieren\n",
    "### PFA (4% PFA Lösung)\n",
    "- absaugen Medium\n",
    "- 1500µL auf CS-Schälchen\n",
    "- 20 Minuten stehen lassen\n",
    "### PBS\n",
    "- absaugen PFA\n",
    "- 2 ml auf alle Schälchen"
   ]
  },
  {
   "cell_type": "markdown",
   "id": "717e0e14-2f5d-4c77-a79d-e094c39583b0",
   "metadata": {},
   "source": [
    "**17.04.** Kontrolle:Faerben sieht erfolgreich aus"
   ]
  },
  {
   "cell_type": "markdown",
   "id": "0bffc7f6-62f0-4633-adf3-067b46b283e7",
   "metadata": {},
   "source": [
    "## Aufnahmen\n",
    "\n",
    "Bilder primär gewählt nach DAPI, falls mind. eine deutliche Calbindin-Färbung vorliegt, genommen \n",
    "\n",
    "|Setting|Objektiv|Laser Alexa555|pinhole Alexa555|gain Alexa555|Laser Alexa488|pinhole Alexa488|gain Alexa488|Laser DAPI|pinhole DAPI|gain DAPI|\n",
    "|---|---|---|---|---|---|---|---|---|---|---|\n",
    "|CS5|x20|0,30|1AU|900|0,20|1AU|580|0,20|1AU|806|\n",
    "|CS10|x20|0,30|1AU|900|0,20|1AU|560|0,20|1AU|700|\n",
    "\n",
    "|Praeparat|Objektiv|Datei Name|Ordner|Anmerkung|\n",
    "|---|---|---|---|---|\n",
    "|CS5|x20|Image 1.czi|PL/17.04.2024|SNAP|\n",
    "|CS5|x20|Image 2.czi|PL/17.04.2024|SNAP|\n",
    "|CS5|x20|Image 3.czi|PL/17.04.2024|SNAP|\n",
    "|CS5|x20|Image 4.czi|PL/17.04.2024|SNAP|\n",
    "|CS5|x20|Image 5.czi|PL/17.04.2024|SNAP|\n",
    "|CS5|x20|Image 6.czi|PL/17.04.2024|SNAP|\n",
    "|CS10|x20|Image 7.czi|PL/17.04.2024|SNAP|\n",
    "|CS10|x20|Image 8.czi|PL/17.04.2024|SNAP|\n",
    "|CS10|x20|Image 9.czi|PL/17.04.2024|SNAP|\n",
    "|CS10|x20|Image 10.czi|PL/17.04.2024|SNAP|\n",
    "|CS10|x20|Image 11.czi|PL/17.04.2024|SNAP|\n",
    "|CS10|x20|Image 12.czi|PL/17.04.2024|SNAP|\n",
    "|CS10|x20|Image 13.czi|PL/17.04.2024|SNAP|"
   ]
  },
  {
   "cell_type": "markdown",
   "id": "fa1d08a9-e3b6-4635-ae1a-f24d65ef0de8",
   "metadata": {},
   "source": [
    "**19.04.**"
   ]
  },
  {
   "cell_type": "markdown",
   "id": "37b68f81-4029-4f2d-86a8-88182817ddff",
   "metadata": {},
   "source": [
    "## Aufnahmen\n",
    "\n",
    "unsicher, wie diese Bilder gewaehlt wurden \n",
    "\n",
    "|Praeparat|Objektiv|Datei Name|Ordner|Anmerkung|\n",
    "|---|---|---|---|---|\n",
    "|CS1|x20|controlAlexa555gp900_03.czi|PL/19.04.2024|SNAP|\n",
    "|CS2|x20|controlAlexa488rb560_02.czi|PL/19.04.2024|SNAP|\n",
    "|CS2|x20|controlAlexa488rb580_02.czi|PL/19.04.2024|SNAP|"
   ]
  },
  {
   "cell_type": "markdown",
   "id": "a9691b95-29a0-46ae-828a-48b27dd924f9",
   "metadata": {},
   "source": [
    "**24.04.**"
   ]
  },
  {
   "cell_type": "markdown",
   "id": "e2caa130-cc13-4386-9e0d-be5bcf2ebad5",
   "metadata": {},
   "source": [
    "## Aufnahmen\n",
    "\n",
    "Bilder primär gewählt nach DAPI, falls mind. eine deutliche Calbindin-Färbung vorliegt, genommen\\\n",
    "DAPI Einstellungen auf Aufnahme 1 und 2 koennen abweichen\n",
    "\n",
    "|Setting|Objektiv|Laser Alexa555|pinhole Alexa555|gain Alexa555|Laser Alexa488|pinhole Alexa488|gain Alexa488|Laser DAPI|pinhole DAPI|gain DAPI|\n",
    "|---|---|---|---|---|---|---|---|---|---|---|\n",
    "|CS12_low|x20|0,30|1AU|650|0,20|1AU|460|0,20|1AU|560|\n",
    "|CS12_high|x20|0,30|1AU|900|0,20|1AU|560|0,20|1AU|560|\n",
    "\n",
    "|Praeparat|Objektiv|Datei Name|Ordner|Anmerkung|\n",
    "|---|---|---|---|---|\n",
    "|CS12|x20|TH_CS12_low1.czi|PL/24.04.2024|SNAP|\n",
    "|CS12|x20|TH_CS12_high1.czi|PL/24.04.2024|SNAP|\n",
    "|CS12|x20|TH_CS12_low2.czi|PL/24.04.2024|SNAP|\n",
    "|CS12|x20|TH_CS12_high2.czi|PL/24.04.2024|SNAP|\n",
    "|CS12|x20|TH_CS12_low3.czi|PL/24.04.2024|SNAP|\n",
    "|CS12|x20|TH_CS12_high3.czi|PL/24.04.2024|SNAP|\n",
    "|CS12|x20|TH_CS12_low4.czi|PL/24.04.2024|SNAP|\n",
    "|CS12|x20|TH_CS12_high4.czi|PL/24.04.2024|SNAP|\n",
    "|CS12|x20|TH_CS12_low5.czi|PL/24.04.2024|SNAP|\n",
    "|CS12|x20|TH_CS12_high5.czi|PL/24.04.2024|SNAP|\n",
    "|CS12|x20|TH_CS12_low6.czi|PL/24.04.2024|SNAP|\n",
    "|CS12|x20|TH_CS12_high6.czi|PL/24.04.2024|SNAP|\n",
    "|CS12|x20|TH_CS12_low7.czi|PL/24.04.2024|SNAP|\n",
    "|CS12|x20|TH_CS12_high7.czi|PL/24.04.2024|SNAP|\n",
    "|CS12|x20|TH_CS12_low8.czi|PL/24.04.2024|SNAP|\n",
    "|CS12|x20|TH_CS12_high8.czi|PL/24.04.2024|SNAP|"
   ]
  },
  {
   "cell_type": "markdown",
   "id": "0bbc5a12-3686-4f1a-8c24-38eb6be2d740",
   "metadata": {},
   "source": [
    "arbeiten von nun an ohne Übersättigung"
   ]
  },
  {
   "cell_type": "markdown",
   "id": "e26131fa-da4d-4ef6-876a-5e3062cd89ff",
   "metadata": {},
   "source": [
    "**25.04.**"
   ]
  },
  {
   "cell_type": "markdown",
   "id": "9ba644fe-80b9-4bd2-9b69-13f8fa7179e4",
   "metadata": {},
   "source": [
    "|Setting|Objektiv|Laser Alexa555|pinhole Alexa555|gain Alexa555|Laser Alexa488|pinhole Alexa488|gain Alexa488|Laser DAPI|pinhole DAPI|gain DAPI|\n",
    "|---|---|---|---|---|---|---|---|---|---|---|\n",
    "|CS13(ab Bild3)|x20|0,30|1AU|700|0,20|1AU|450|0,20|1AU|630|\n",
    "|CS14|x20|0,30|1AU|700|0,20|1AU|450|0,20|1AU|790|\n",
    "|CS15|x20|0,30|1AU|700|0,20|1AU|480|0,20|1AU|700|\n",
    "\n",
    "zu CS13: Bild 1 und 2 noch leicht andere Einstellungen\n",
    "zu CS14: nach 1. DAPI gedrosselt\n",
    "\n",
    "|Praeparat|Objektiv|Datei Name|Ordner|Anmerkung|\n",
    "|---|---|---|---|---|\n",
    "|CS13|x20|vGLUT_CS13-1.czi|PL/24.04.2024|SNAP|\n",
    "|CS13|x20|vGLUT_CS13-2.czi|PL/24.04.2024|SNAP|\n",
    "|CS13|x20|vGLUT_CS13-3.czi|PL/24.04.2024|SNAP|\n",
    "|CS13|x20|vGLUT_CS13-4.czi|PL/24.04.2024|SNAP|\n",
    "|CS13|x20|vGLUT_CS13-5.czi|PL/24.04.2024|SNAP|\n",
    "|CS13|x20|vGLUT_CS13-6.czi|PL/24.04.2024|SNAP|\n",
    "|CS13|x20|vGLUT_CS13-7.czi|PL/24.04.2024|SNAP|\n",
    "|CS13|x20|vGLUT_CS13-8.czi|PL/24.04.2024|SNAP|\n",
    "|CS13|x20|vGLUT_CS13-9.czi|PL/24.04.2024|SNAP|\n",
    "|CS13|x20|vGLUT_CS13-10.czi|PL/24.04.2024|SNAP|\n",
    "|CS13|x20|vGLUT_CS13-11.czi|PL/24.04.2024|SNAP|\n",
    "|CS13|x20|vGLUT_CS13-12.czi|PL/24.04.2024|SNAP|\n",
    "|CS14|x20|Bassoon_CS14-1.czi|PL/24.04.2024|SNAP|\n",
    "|CS14|x20|Bassoon_CS14-2.czi|PL/24.04.2024|SNAP|\n",
    "|CS14|x20|Bassoon_CS14-3.czi|PL/24.04.2024|SNAP|\n",
    "|CS14|x20|Bassoon_CS14-4.czi|PL/24.04.2024|SNAP|\n",
    "|CS14|x20|Bassoon_CS14-5.czi|PL/24.04.2024|SNAP|\n",
    "|CS14|x20|Bassoon_CS14-6.czi|PL/24.04.2024|SNAP|\n",
    "|CS14|x20|Bassoon_CS14-7.czi|PL/24.04.2024|SNAP|\n",
    "|CS14|x20|Bassoon_CS14-8.czi|PL/24.04.2024|SNAP|\n",
    "|CS14|x20|Bassoon_CS14-9.czi|PL/24.04.2024|SNAP|\n",
    "|CS14|x20|Bassoon_CS14-10.czi|PL/24.04.2024|SNAP|\n",
    "|CS14|x20|Bassoon_CS14-11.czi|PL/24.04.2024|SNAP|\n",
    "|CS15|x20|EAAT1_CS15-1.czi|PL/24.04.2024|SNAP|\n",
    "|CS15|x20|EAAT1_CS15-2.czi|PL/24.04.2024|SNAP|\n",
    "|CS15|x20|EAAT1_CS15-3.czi|PL/24.04.2024|SNAP|\n",
    "|CS15|x20|EAAT1_CS15-4.czi|PL/24.04.2024|SNAP|\n",
    "|CS15|x20|EAAT1_CS15-5.czi|PL/24.04.2024|SNAP|"
   ]
  },
  {
   "cell_type": "markdown",
   "id": "3e7956d8-0ebd-4d7f-8ca3-d05513bc2347",
   "metadata": {},
   "source": [
    "**30.04.**"
   ]
  },
  {
   "cell_type": "markdown",
   "id": "63f165f2-e66f-418e-aa8c-046675882361",
   "metadata": {},
   "source": [
    "|Setting|Objektiv|Laser Alexa555|pinhole Alexa555|gain Alexa555|Laser Alexa488|pinhole Alexa488|gain Alexa488|Laser DAPI|pinhole DAPI|gain DAPI|\n",
    "|---|---|---|---|---|---|---|---|---|---|---|\n",
    "|CS11|x20|0,30|1AU|620|0,20|1AU|420|0,20|1AU|600|\n",
    "|CS10|x20|0,30|1AU|680|0,20|1AU|460|0,20|1AU|770|\n",
    "|CS6|x20|0,30|1AU|710|0,20|1AU|460|0,20|1AU|770|\n",
    "|CS3_autofluoresz|x20|0,70|1AU|800|0,20|1AU|650|0,20|1AU|770|\n",
    "\n",
    "|Praeparat|Objektiv|Datei Name|Ordner|Anmerkung|\n",
    "|---|---|---|---|---|\n",
    "|CS11|x20|ChAT_CS11-1.czi|PL/30.04.2024|SNAP|\n",
    "|CS11|x20|ChAT_CS11-2.czi|PL/30.04.2024|SNAP|\n",
    "|CS11|x20|ChAT_CS11-3.czi|PL/30.04.2024|SNAP|\n",
    "|CS11|x20|ChAT_CS11-4.czi|PL/30.04.2024|SNAP|\n",
    "|CS11|x20|ChAT_CS11-5.czi|PL/30.04.2024|SNAP|\n",
    "|CS11|x20|ChAT_CS11-6.czi|PL/30.04.2024|SNAP|\n",
    "|CS11|x20|ChAT_CS11-7.czi|PL/30.04.2024|SNAP|\n",
    "|CS11|x20|ChAT_CS11-8.czi|PL/30.04.2024|SNAP|\n",
    "|CS11|x20|ChAT_CS11-9.czi|PL/30.04.2024|SNAP|\n",
    "|CS11|x20|ChAT_CS11-10.czi|PL/30.04.2024|SNAP|\n",
    "|CS10|x20|ChAT_CS10-1.czi|PL/30.04.2024|SNAP|\n",
    "|CS10|x20|ChAT_CS10-2.czi|PL/30.04.2024|SNAP|\n",
    "|CS10|x20|ChAT_CS10-3.czi|PL/30.04.2024|SNAP|\n",
    "|CS10|x20|ChAT_CS10-4.czi|PL/30.04.2024|SNAP|\n",
    "|CS10|x20|ChAT_CS10-5.czi|PL/30.04.2024|SNAP|\n",
    "|CS10|x20|ChAT_CS10-6.czi|PL/30.04.2024|SNAP|\n",
    "|CS10|x20|ChAT_CS10-7.czi|PL/30.04.2024|SNAP|\n",
    "|CS10|x20|ChAT_CS10-8.czi|PL/30.04.2024|SNAP|\n",
    "|CS6|x20|Nestin_CS6-1.czi|PL/30.04.2024|SNAP|\n",
    "|CS6|x20|Nestin_CS6-2.czi|PL/30.04.2024|SNAP|\n",
    "|CS6|x20|Nestin_CS6-3.czi|PL/30.04.2024|SNAP|\n",
    "|CS6|x20|Nestin_CS6-4.czi|PL/30.04.2024|SNAP|\n",
    "|CS6|x20|Nestin_CS6-5.czi|PL/30.04.2024|SNAP|\n",
    "|CS6|x20|Nestin_CS6-6.czi|PL/30.04.2024|SNAP|\n",
    "|CS6|x20|Nestin_CS6-7.czi|PL/30.04.2024|SNAP|\n",
    "|CS6|x20|Nestin_CS6-8.czi|PL/30.04.2024|SNAP|\n",
    "|CS6|x20|Nestin_CS6-9.czi|PL/30.04.2024|SNAP|\n",
    "|CS6|x20|Nestin_CS6-10.czi|PL/30.04.2024|SNAP|\n",
    "|CS6|x20|Nestin_CS6-11.czi|PL/30.04.2024|SNAP|\n",
    "|CS3_autofluoresz|x20|autofluoresz_CS3-1.czi|PL/30.04.2024|SNAP, Auffaelligkeiten in Alexa555-Kanal|\n",
    "|CS3|x20|controlAlexa488ms460_02.czi|PL/30.04.2024|SNAP|\n",
    "\n",
    "CS11-9&10 gleiche große Zelle, veränderte Position, um ganz aufzunehmen"
   ]
  },
  {
   "cell_type": "markdown",
   "id": "df911207-b7bf-4805-bf48-8bc002f7637b",
   "metadata": {},
   "source": [
    "**14.05.**"
   ]
  },
  {
   "cell_type": "markdown",
   "id": "c0913dac-d95b-4c59-b499-fc639043661a",
   "metadata": {},
   "source": [
    "|Setting|Objektiv|Laser Alexa555|pinhole Alexa555|gain Alexa555|Laser Alexa488|pinhole Alexa488|gain Alexa488|Laser DAPI|pinhole DAPI|gain DAPI|\n",
    "|---|---|---|---|---|---|---|---|---|---|---|\n",
    "|2CS19|x20|0,30|1AU|590|0,20|1AU|400|0,20|1AU|620|\n",
    "\n",
    "|Praeparat|Objektiv|Datei Name|Ordner|Anmerkung|\n",
    "|---|---|---|---|---|\n",
    "|2CS11|x20|GFAP_2CS19-1.czi|PL/14.05.2024|SNAP|\n",
    "|2CS11|x20|GFAP_2CS19-2.czi|PL/14.05.2024|SNAP|\n",
    "|2CS11|x20|GFAP_2CS19-3.czi|PL/14.05.2024|SNAP|\n",
    "|2CS11|x20|GFAP_2CS19-4.czi|PL/14.05.2024|SNAP|\n",
    "|2CS11|x20|GFAP_2CS19-5.czi|PL/14.05.2024|SNAP|\n",
    "|2CS11|x20|GFAP_2CS19-6.czi|PL/14.05.2024|SNAP|\n",
    "|2CS11|x20|GFAP_2CS19-7.czi|PL/14.05.2024|SNAP, stark uebersaettigter Punkt|"
   ]
  },
  {
   "cell_type": "markdown",
   "id": "a3f20808-fb7a-4c70-8703-fb2c0a197bde",
   "metadata": {},
   "source": [
    "Kontrolle: 1,2,3\\\n",
    "nicht aufgenommen: 5\\\n",
    "aufgenommen ungesaettigt: 4,6,7,8,9,10,11,12,13,14,15"
   ]
  }
 ],
 "metadata": {
  "kernelspec": {
   "display_name": "Python 3 (ipykernel)",
   "language": "python",
   "name": "python3"
  },
  "language_info": {
   "codemirror_mode": {
    "name": "ipython",
    "version": 3
   },
   "file_extension": ".py",
   "mimetype": "text/x-python",
   "name": "python",
   "nbconvert_exporter": "python",
   "pygments_lexer": "ipython3",
   "version": "3.11.4"
  }
 },
 "nbformat": 4,
 "nbformat_minor": 5
}
